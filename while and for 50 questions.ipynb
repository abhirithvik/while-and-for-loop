{
 "cells": [
  {
   "cell_type": "markdown",
   "id": "dbb7b29d",
   "metadata": {},
   "source": [
    "## 1.Create a function that takes a base number and an exponent number and returns the calculation.\n",
    "\n",
    "### Examples\n",
    "* calculate_exponent(5, 5) ➞ 3125\n",
    "\n",
    "* calculate_exponent(10, 10) ➞ 10000000000\n",
    "\n",
    "* calculate_exponent(3, 3) ➞ 27"
   ]
  },
  {
   "cell_type": "code",
   "execution_count": 1,
   "id": "0e1bd474",
   "metadata": {},
   "outputs": [
    {
     "name": "stdout",
     "output_type": "stream",
     "text": [
      "5\n",
      "5\n",
      "3125\n"
     ]
    }
   ],
   "source": [
    "base , exp = int(input()), int(input())\n",
    "result =1\n",
    "while exp != 0:\n",
    "    result*=base\n",
    "    exp-=1\n",
    "    \n",
    "print(result) "
   ]
  },
  {
   "cell_type": "code",
   "execution_count": 2,
   "id": "62578d2e",
   "metadata": {},
   "outputs": [
    {
     "name": "stdout",
     "output_type": "stream",
     "text": [
      "5\n",
      "5\n",
      "3125\n"
     ]
    }
   ],
   "source": [
    "base = int(input())\n",
    "exponent = int(input())\n",
    "\n",
    "result = 1\n",
    "for _ in range(exponent):\n",
    "    result *= base\n",
    "print(result)"
   ]
  },
  {
   "cell_type": "markdown",
   "id": "e02de174",
   "metadata": {},
   "source": [
    "## 2.Create a function that takes a list of numbers. Return the largest number in the list.\n",
    "\n",
    "### Examples\n",
    "* findLargestNum([4, 5, 1, 3]) ➞ 5\n",
    "\n",
    "* findLargestNum([300, 200, 600, 150]) ➞ 600\n",
    "\n",
    "* findLargestNum([1000, 1001, 857, 1]) ➞ 1001"
   ]
  },
  {
   "cell_type": "code",
   "execution_count": 3,
   "id": "29b08493",
   "metadata": {},
   "outputs": [
    {
     "name": "stdout",
     "output_type": "stream",
     "text": [
      "89\n"
     ]
    }
   ],
   "source": [
    "g = [1,8,57,44,89]\n",
    "greatest = g[0]\n",
    "index = 1\n",
    "\n",
    "while index < len(g):\n",
    "    if g[index] > greatest:\n",
    "        greatest = g[index]\n",
    "    index += 1\n",
    "    \n",
    "print(greatest)"
   ]
  },
  {
   "cell_type": "code",
   "execution_count": 4,
   "id": "d9c79a76",
   "metadata": {},
   "outputs": [
    {
     "name": "stdout",
     "output_type": "stream",
     "text": [
      "600\n"
     ]
    }
   ],
   "source": [
    "g = [300, 200, 600, 150]\n",
    "largest = g[0]\n",
    "\n",
    "for num in g:\n",
    "    if num > largest:\n",
    "        largest = num\n",
    "print(largest)"
   ]
  },
  {
   "cell_type": "markdown",
   "id": "554306e0",
   "metadata": {},
   "source": [
    "## 3.Create a function that takes a list of numbers and returns the smallest number in the list.\n",
    "\n",
    "### Examples\n",
    "* find_smallest_num([34, 15, 88, 2]) ➞ 2\n",
    "\n",
    "* find_smallest_num([34, -345, -1, 100]) ➞ -345\n",
    "\n",
    "* find_smallest_num([-76, 1.345, 1, 0]) ➞ -76\n",
    "\n",
    "* find_smallest_num([0.4356, 0.8795, 0.5435, -0.9999]) ➞ -0.9999\n",
    "\n",
    "* find_smallest_num([7, 7, 7]) ➞ 7"
   ]
  },
  {
   "cell_type": "code",
   "execution_count": 5,
   "id": "43afd301",
   "metadata": {},
   "outputs": [
    {
     "name": "stdout",
     "output_type": "stream",
     "text": [
      "-345\n"
     ]
    }
   ],
   "source": [
    "s= [34,-345,-1,100]\n",
    "smallest = s[0]\n",
    "index = 1\n",
    "\n",
    "while index < len(s):\n",
    "    if s[index] < smallest:\n",
    "        smallest = s[index]\n",
    "    index += 1\n",
    "\n",
    "print(smallest)"
   ]
  },
  {
   "cell_type": "code",
   "execution_count": 6,
   "id": "893c12b4",
   "metadata": {},
   "outputs": [
    {
     "name": "stdout",
     "output_type": "stream",
     "text": [
      "-0.9999\n"
     ]
    }
   ],
   "source": [
    "s = [0.4356, 0.8795, 0.5435, -0.9999]\n",
    "smallest = s[0]\n",
    "\n",
    "for num in s:\n",
    "    if num < smallest:\n",
    "        smallest = num\n",
    "\n",
    "print(smallest)"
   ]
  },
  {
   "cell_type": "markdown",
   "id": "e2167566",
   "metadata": {},
   "source": [
    "## 4.Create a function that takes a list and returns the difference between the biggest and smallest numbers.\n",
    "\n",
    "### Examples\n",
    "* difference_max_min([10, 4, 1, 4, -10, -50, 32, 21]) ➞ 82\n",
    " Smallest number is -50, biggest is 32.\n",
    "\n",
    "* difference_max_min([44, 32, 86, 19]) ➞ 67\n",
    " Smallest number is 19, biggest is 86."
   ]
  },
  {
   "cell_type": "code",
   "execution_count": 7,
   "id": "269b9a25",
   "metadata": {},
   "outputs": [
    {
     "name": "stdout",
     "output_type": "stream",
     "text": [
      "82 32 -50\n"
     ]
    }
   ],
   "source": [
    "x = [10, 4, 1, 4, -10, -50, 32, 21]\n",
    "s = x[0]\n",
    "g = x[0]\n",
    "i = 1\n",
    "while i < len(x):\n",
    "    if x[i] > g:\n",
    "        g = x[i]\n",
    "    if x[i] < s:\n",
    "        s = x[i]\n",
    "    \n",
    "    i +=1\n",
    "d=g-s     \n",
    "print(d,g,s, end='\\n')"
   ]
  },
  {
   "cell_type": "code",
   "execution_count": 8,
   "id": "7c35d4d7",
   "metadata": {},
   "outputs": [
    {
     "name": "stdout",
     "output_type": "stream",
     "text": [
      "67\n"
     ]
    }
   ],
   "source": [
    "x = [44, 32, 86, 19]\n",
    "l= x[0]\n",
    "s = x[0]\n",
    "\n",
    "for num in x:\n",
    "    if num > l:\n",
    "        l = num\n",
    "    if num < s:\n",
    "        s = num\n",
    "\n",
    "d = l - s\n",
    "\n",
    "print(d)"
   ]
  },
  {
   "cell_type": "markdown",
   "id": "556e5b17",
   "metadata": {},
   "source": [
    "## 5.Create a function that takes a list and returns the sum of all numbers in the list.\n",
    "\n",
    "### Examples\n",
    "* get_sum_of_elements([2, 7, 4]) ➞ 13\n",
    "\n",
    "* get_sum_of_elements([45, 3, 0]) ➞ 48\n",
    "\n",
    "* get_sum_of_elements([-2, 84, 23]) ➞ 105"
   ]
  },
  {
   "cell_type": "code",
   "execution_count": 9,
   "id": "1b21bb3e",
   "metadata": {
    "scrolled": true
   },
   "outputs": [
    {
     "name": "stdout",
     "output_type": "stream",
     "text": [
      "105\n"
     ]
    }
   ],
   "source": [
    "x=[-2, 84, 23]\n",
    "y=0\n",
    "i=0\n",
    "while i<len(x):\n",
    "    y+=x[i]\n",
    "    i+=1\n",
    "    \n",
    "print(y)"
   ]
  },
  {
   "cell_type": "code",
   "execution_count": 10,
   "id": "d1329ee4",
   "metadata": {},
   "outputs": [
    {
     "name": "stdout",
     "output_type": "stream",
     "text": [
      "105\n"
     ]
    }
   ],
   "source": [
    "x = [-2, 84, 23]\n",
    "y = 0\n",
    "\n",
    "for num in x:\n",
    "    y += num\n",
    "\n",
    "print(y)"
   ]
  },
  {
   "cell_type": "markdown",
   "id": "109dbc69",
   "metadata": {},
   "source": [
    "## 6. create a function that takes a number (from 1 - 60) and returns a corresponding string of hyphens.\n",
    "\n",
    "Examples\n",
    "num_to_dashes(1) ➞ \"-\"\n",
    "\n",
    "num_to_dashes(5) ➞ \"-----\"\n",
    "\n",
    "num_to_dashes(3) ➞ \"---\"\n"
   ]
  },
  {
   "cell_type": "code",
   "execution_count": 11,
   "id": "03722ce4",
   "metadata": {},
   "outputs": [
    {
     "name": "stdout",
     "output_type": "stream",
     "text": [
      "Enter a number from 1 to 60: 5\n",
      " -----\n"
     ]
    }
   ],
   "source": [
    "x= int(input(\"Enter a number from 1 to 60: \"))\n",
    "if 1<=x<=60:\n",
    "    hyphen =\" \"\n",
    "    count =0\n",
    "    \n",
    "    while count<x:\n",
    "        hyphen+=\"-\"\n",
    "        count+=1\n",
    "print(hyphen)"
   ]
  },
  {
   "cell_type": "code",
   "execution_count": 12,
   "id": "f98008b1",
   "metadata": {},
   "outputs": [
    {
     "name": "stdout",
     "output_type": "stream",
     "text": [
      "Enter a number from 1 to 60: 6\n",
      "------\n"
     ]
    }
   ],
   "source": [
    "num = int(input(\"Enter a number from 1 to 60: \"))\n",
    "hyphen = \"\"\n",
    "\n",
    "for i in range(num):\n",
    "    hyphen += \"-\"\n",
    "    \n",
    "print(hyphen)"
   ]
  },
  {
   "cell_type": "markdown",
   "id": "fee78c66",
   "metadata": {},
   "source": [
    "## 7.Write a function that takes an integer and returns a string with the given number of \"a\"s in Edabit.\n",
    "\n",
    "### Examples\n",
    "* how_many_times(5) ➞ \"Edaaaaabit\"\n",
    "\n",
    "* how_many_times(0) ➞ \"Edbit\"\n",
    "\n",
    "* how_many_times(12) ➞ \"Edaaaaaaaaaaaabit\""
   ]
  },
  {
   "cell_type": "code",
   "execution_count": 13,
   "id": "5a290aca",
   "metadata": {},
   "outputs": [
    {
     "name": "stdout",
     "output_type": "stream",
     "text": [
      "Enter a non-negative integer: 7\n",
      "Eaaaaaaabit\n"
     ]
    }
   ],
   "source": [
    "num = int(input(\"Enter a non-negative integer: \"))\n",
    "if num >= 0:\n",
    "    edabit_string = \"E\"\n",
    "    count = 0\n",
    "    \n",
    "    while count < num:\n",
    "        edabit_string += \"a\"\n",
    "        count += 1\n",
    "    \n",
    "    edabit_string += \"bit\"\n",
    "    print(edabit_string)"
   ]
  },
  {
   "cell_type": "code",
   "execution_count": 14,
   "id": "79b36eac",
   "metadata": {},
   "outputs": [
    {
     "name": "stdout",
     "output_type": "stream",
     "text": [
      "Enter a non-negative integer: 0\n",
      "Edbit\n"
     ]
    }
   ],
   "source": [
    "num = int(input(\"Enter a non-negative integer: \"))\n",
    "result = \"Ed\"\n",
    "\n",
    "for i in range(num):\n",
    "    result += \"a\"\n",
    "result += \"bit\"\n",
    "\n",
    "print(result)"
   ]
  },
  {
   "cell_type": "markdown",
   "id": "fdfa93f6",
   "metadata": {},
   "source": [
    "## 8.Create a function that returns True if all parameters are truthy, and False otherwise.\n",
    "\n",
    "### Examples\n",
    "* all_truthy(True, True, True) ➞ True\n",
    "\n",
    "* all_truthy(True, False, True) ➞ False\n",
    "\n",
    "* all_truthy(5, 4, 3, 2, 1, 0) ➞ False"
   ]
  },
  {
   "cell_type": "code",
   "execution_count": 15,
   "id": "c5bed6da",
   "metadata": {},
   "outputs": [
    {
     "name": "stdout",
     "output_type": "stream",
     "text": [
      "False\n"
     ]
    }
   ],
   "source": [
    "input_values = [True, False, True]\n",
    "result = True\n",
    "index = 0\n",
    "\n",
    "while index < len(input_values):\n",
    "    if not input_values[index]:\n",
    "        result = False\n",
    "        break\n",
    "    index += 1\n",
    "\n",
    "print(result)"
   ]
  },
  {
   "cell_type": "code",
   "execution_count": 16,
   "id": "91dfdfd9",
   "metadata": {},
   "outputs": [
    {
     "name": "stdout",
     "output_type": "stream",
     "text": [
      "False\n"
     ]
    }
   ],
   "source": [
    "input_values = [5, 4, 3, 2, 1, 0]\n",
    "result = True\n",
    "\n",
    "for value in input_values:\n",
    "    if not value:\n",
    "        result = False\n",
    "        break\n",
    "\n",
    "print(result)"
   ]
  },
  {
   "cell_type": "markdown",
   "id": "9b517423",
   "metadata": {},
   "source": [
    "## 9.Mubashir created an infinite loop! Help him by fixing the code in the code tab to pass this challenge. Look at the examples below to get an idea of what the function should do.\n",
    "\n",
    "### Examples\n",
    "* print_list(1) ➞ [1]\n",
    "\n",
    "* print_list(3) ➞ [1, 2, 3]\n",
    "\n",
    "* print_list(6) ➞ [1, 2, 3, 4, 5, 6]"
   ]
  },
  {
   "cell_type": "code",
   "execution_count": 17,
   "id": "9917b338",
   "metadata": {},
   "outputs": [
    {
     "name": "stdout",
     "output_type": "stream",
     "text": [
      "7\n",
      "1,2,3,4,5,6,7,"
     ]
    }
   ],
   "source": [
    "x =0\n",
    "n=int(input(''))\n",
    "counter=0\n",
    "while counter<n:\n",
    "    x+=1\n",
    "    print(x,end=',')\n",
    "    counter+=1"
   ]
  },
  {
   "cell_type": "code",
   "execution_count": 18,
   "id": "59046e0c",
   "metadata": {},
   "outputs": [
    {
     "name": "stdout",
     "output_type": "stream",
     "text": [
      "Enter a number: 8\n",
      "[1, 2, 3, 4, 5, 6, 7, 8]\n"
     ]
    }
   ],
   "source": [
    "num = int(input(\"Enter a number: \"))\n",
    "result = []\n",
    "\n",
    "for current_number in range(1, num + 1):\n",
    "    result.append(current_number)\n",
    "\n",
    "print(result)"
   ]
  },
  {
   "cell_type": "markdown",
   "id": "176c7f1e",
   "metadata": {},
   "source": [
    "## 10.Create a function that returns the last value of the last item in a list or string.\n",
    "\n",
    "### Examples\n",
    "* last_ind([0, 4, 19, 34, 50, -9, 2]) ➞ 2\n",
    "\n",
    "* last_ind(\"The quick brown fox jumped over the lazy dog\") ➞ \"g\"\n",
    "\n",
    "* last_ind([]) ➞ None"
   ]
  },
  {
   "cell_type": "code",
   "execution_count": 19,
   "id": "30ba1f4e",
   "metadata": {},
   "outputs": [
    {
     "name": "stdout",
     "output_type": "stream",
     "text": [
      "Enter a list or string: \n",
      "Last value of the last item: None\n"
     ]
    }
   ],
   "source": [
    "input_value = input(\"Enter a list or string: \")\n",
    "last_item = None\n",
    "index = 0\n",
    "\n",
    "while index < len(input_value):\n",
    "    last_item = input_value[index]\n",
    "    index += 1\n",
    "\n",
    "print(\"Last value of the last item:\", last_item)"
   ]
  },
  {
   "cell_type": "code",
   "execution_count": 20,
   "id": "0a228f4c",
   "metadata": {},
   "outputs": [
    {
     "name": "stdout",
     "output_type": "stream",
     "text": [
      "Enter a list or string: The quick brown fox jumped over the lazy dog\n",
      "Last value of the last item: g\n"
     ]
    }
   ],
   "source": [
    "input_value = input(\"Enter a list or string: \")\n",
    "last_item = None\n",
    "\n",
    "for item in input_value:\n",
    "    last_item = item\n",
    "\n",
    "print(\"Last value of the last item:\", last_item)"
   ]
  },
  {
   "cell_type": "markdown",
   "id": "e98665f0",
   "metadata": {},
   "source": [
    "## 11.Write a function that turns a comma-delimited list into an array of strings.\n",
    "\n",
    "### Examples\n",
    "* to_array(\"watermelon, raspberry, orange\")\n",
    "➞ [\"watermelon\", \"raspberry\", \"orange\"]\n",
    "\n",
    "* to_array(\"x1, x2, x3, x4, x5\")\n",
    "➞ [\"x1\", \"x2\", \"x3\", \"x4\", \"x5\"]\n",
    "\n",
    "* to_array(\"a, b, c, d\")\n",
    "➞ [\"a\", \"b\", \"c\", \"d\"]\n",
    "\n",
    "* to_array(\"\")\n",
    "➞ []"
   ]
  },
  {
   "cell_type": "code",
   "execution_count": 21,
   "id": "8052a3aa",
   "metadata": {},
   "outputs": [
    {
     "name": "stdout",
     "output_type": "stream",
     "text": [
      "Enter a comma-delimited list: x1, x2, x3, x4, x5\n",
      "Array of strings: ['x1', ' x2', ' x3', ' x4', ' x5']\n"
     ]
    }
   ],
   "source": [
    "input_string = input(\"Enter a comma-delimited list: \")\n",
    "string_array = []\n",
    "current_string = \"\"\n",
    "index = 0\n",
    "\n",
    "while index < len(input_string):\n",
    "    if input_string[index] == ',':\n",
    "        string_array.append(current_string)\n",
    "        current_string = \"\"\n",
    "    else:\n",
    "        current_string += input_string[index]\n",
    "    index += 1\n",
    "\n",
    "string_array.append(current_string)\n",
    "print(\"Array of strings:\", string_array)"
   ]
  },
  {
   "cell_type": "code",
   "execution_count": 22,
   "id": "e1f670ad",
   "metadata": {},
   "outputs": [
    {
     "name": "stdout",
     "output_type": "stream",
     "text": [
      "Enter a comma-delimited list: watermelon, raspberry, orange\n",
      "['watermelon', ' raspberry', ' orange']\n"
     ]
    }
   ],
   "source": [
    "input_string = input(\"Enter a comma-delimited list: \")\n",
    "string_array = []\n",
    "current_string = \"\"\n",
    "\n",
    "for char in input_string:\n",
    "    if char == \",\":\n",
    "        string_array.append(current_string)\n",
    "        current_string = \"\"\n",
    "    else:\n",
    "        current_string += char\n",
    "\n",
    "string_array.append(current_string)\n",
    "\n",
    "print(string_array)\n"
   ]
  },
  {
   "cell_type": "markdown",
   "id": "f30bcdf9",
   "metadata": {},
   "source": [
    "#### 12.Scientists have discovered that in four decades, the world will EXPLODE! It will also take three decades to make a spaceship to travel to a new planet that can hold the entire world population.\n",
    "\n",
    "You must calculate the number of people there will be in three decades from now.\n",
    "\n",
    "The variable P is the world population now.\n",
    "Assume that every month, someone gives birth to more people nP.\n",
    "Return the number of people there will be when the spaceship is complete.\n",
    "\n",
    "### Examples\n",
    "* future_people(256, 2) ➞ 976\n",
    "\n",
    "* future_people(3248, 6) ➞ 5408\n",
    "\n",
    "* future_people(5240, 3) ➞ 6320"
   ]
  },
  {
   "cell_type": "code",
   "execution_count": 23,
   "id": "673681a3",
   "metadata": {},
   "outputs": [
    {
     "name": "stdout",
     "output_type": "stream",
     "text": [
      "Enter the current world population: 256\n",
      "Enter the number of births per month: 2\n",
      "Number of people in three decades: 976\n"
     ]
    }
   ],
   "source": [
    "current_population = int(input(\"Enter the current world population: \"))\n",
    "births_per_month = int(input(\"Enter the number of births per month: \"))\n",
    "years_in_future = 30\n",
    "months_in_three_decades = years_in_future * 12\n",
    "future_population = current_population\n",
    "months_passed = 0\n",
    "\n",
    "while months_passed < months_in_three_decades:\n",
    "    future_population += births_per_month\n",
    "    months_passed += 1\n",
    "\n",
    "print(\"Number of people in three decades:\", future_population)"
   ]
  },
  {
   "cell_type": "code",
   "execution_count": 24,
   "id": "bb8e2c95",
   "metadata": {},
   "outputs": [
    {
     "name": "stdout",
     "output_type": "stream",
     "text": [
      "Enter the current world population: 3248\n",
      "Enter the number of births per month: 6\n",
      "Number of people in three decades: 5408\n"
     ]
    }
   ],
   "source": [
    "current_population = int(input(\"Enter the current world population: \"))\n",
    "births_per_month = int(input(\"Enter the number of births per month: \"))\n",
    "years_in_future = 30\n",
    "months_in_three_decades = years_in_future * 12\n",
    "future_population = current_population\n",
    "\n",
    "for months_passed in range(months_in_three_decades):\n",
    "    future_population += births_per_month\n",
    "\n",
    "print(\"Number of people in three decades:\", future_population)"
   ]
  },
  {
   "cell_type": "markdown",
   "id": "3e3a7f5e",
   "metadata": {},
   "source": [
    "## 13.Create a function that returns a number, based on the string provided. Here is a list of all digits:\n",
    "\n",
    "String\tNumber\n",
    "\n",
    "\"one\"\t1\n",
    "\n",
    "\"two\"\t2\n",
    "\n",
    "\"three\"\t3\n",
    "\n",
    "\"four\"\t4\n",
    "\n",
    "\"five\"\t5\n",
    "\n",
    "\"six\"\t6\n",
    "\n",
    "\"seven\"\t7\n",
    "\n",
    "\"eight\"\t8\n",
    "\n",
    "\"nine\"\t9\n",
    "\n",
    "\"zero\"\t0\n",
    "\n",
    "\n",
    "### Examples\n",
    "* word(\"one\") ➞ 1\n",
    "\n",
    "* word(\"two\") ➞ 2\n",
    "\n",
    "* word(\"nine\") ➞ 9"
   ]
  },
  {
   "cell_type": "code",
   "execution_count": 25,
   "id": "ae4b75d5",
   "metadata": {},
   "outputs": [
    {
     "name": "stdout",
     "output_type": "stream",
     "text": [
      "Enter a number word: six\n",
      "6\n"
     ]
    }
   ],
   "source": [
    "number_words = [\"zero\", \"one\", \"two\", \"three\", \"four\", \"five\", \"six\", \"seven\", \"eight\", \"nine\"]\n",
    "input_string = input(\"Enter a number word: \")\n",
    "num = -1\n",
    "index = 0\n",
    "while index < len(number_words):\n",
    "    if input_string == number_words[index]:\n",
    "        num = index\n",
    "        break\n",
    "    index += 1\n",
    "if num != -1:\n",
    "    print(num)"
   ]
  },
  {
   "cell_type": "code",
   "execution_count": 26,
   "id": "aba7d92d",
   "metadata": {},
   "outputs": [
    {
     "name": "stdout",
     "output_type": "stream",
     "text": [
      "Enter a number word: seven\n",
      "7\n"
     ]
    }
   ],
   "source": [
    "string_to_number = {\"one\": 1,\"two\": 2,\"three\": 3,\"four\": 4,\"five\": 5,\"six\": 6,\"seven\": 7,\"eight\": 8,\"nine\": 9,\"zero\": 0}\n",
    "input_string =input(\"Enter a number word: \")\n",
    "result = None\n",
    "for key, value in string_to_number.items():\n",
    "    if key == input_string:\n",
    "        result = value\n",
    "        break\n",
    "\n",
    "print(result)  "
   ]
  },
  {
   "cell_type": "markdown",
   "id": "7b65cb35",
   "metadata": {},
   "source": [
    "## 14.Create a function that takes two strings as arguments and returns the number of times the first string (the single character) is found in the second string.\n",
    "\n",
    "### Examples\n",
    "* char_count(\"a\", \"edabit\") ➞ 1\n",
    "\n",
    "* char_count(\"c\", \"Chamber of secrets\") ➞ 1\n",
    "\n",
    "* char_count(\"b\", \"big fat bubble\") ➞ 4"
   ]
  },
  {
   "cell_type": "code",
   "execution_count": 27,
   "id": "1d0b3c40",
   "metadata": {},
   "outputs": [
    {
     "name": "stdout",
     "output_type": "stream",
     "text": [
      "Enter a string: ramesh\n",
      "Enter a single character: r\n",
      "r 1\n"
     ]
    }
   ],
   "source": [
    "string_input = input(\"Enter a string: \")\n",
    "char_input = input(\"Enter a single character: \")\n",
    "count = 0\n",
    "index = 0\n",
    "\n",
    "while index < len(string_input):\n",
    "    if string_input[index] == char_input:\n",
    "        count += 1\n",
    "    index += 1\n",
    "\n",
    "print(char_input,count)"
   ]
  },
  {
   "cell_type": "code",
   "execution_count": 28,
   "id": "f99a53a9",
   "metadata": {},
   "outputs": [
    {
     "name": "stdout",
     "output_type": "stream",
     "text": [
      "3\n"
     ]
    }
   ],
   "source": [
    "char_to_count = \"a\"  \n",
    "input_string = \"banana\"\n",
    "\n",
    "count = 0\n",
    "\n",
    "for char in input_string:\n",
    "    if char == char_to_count:\n",
    "        count += 1\n",
    "\n",
    "print(count)"
   ]
  },
  {
   "cell_type": "markdown",
   "id": "78dc2130",
   "metadata": {},
   "source": [
    "## 15.Create a function that takes a list and a string as arguments and returns the index of the string.\n",
    "\n",
    "### Examples\n",
    "* find_index([\"hi\", \"edabit\", \"fgh\", \"abc\"], \"fgh\") ➞ 2\n",
    "\n",
    "* find_index([\"Red\", \"blue\", \"Blue\", \"Green\"], \"blue\") ➞ 1\n",
    "\n",
    "* find_index([\"a\", \"g\", \"y\", \"d\"], \"d\") ➞ 3\n",
    "* find_index([\"Pineapple\", \"Orange\", \"Grape\", \"Apple\"], \"Pineapple\") ➞ 0"
   ]
  },
  {
   "cell_type": "code",
   "execution_count": 29,
   "id": "522111ae",
   "metadata": {},
   "outputs": [
    {
     "name": "stdout",
     "output_type": "stream",
     "text": [
      "Enter a string: apple\n",
      "The string 'apple' is found at index 0.\n"
     ]
    }
   ],
   "source": [
    "input_list = [\"apple\", \"banana\", \"cherry\", \"date\", \"apple\"]\n",
    "input_string = input(\"Enter a string: \")\n",
    "index = 0\n",
    "found_index = -1\n",
    "\n",
    "while index < len(input_list):\n",
    "    if input_list[index] == input_string:\n",
    "        found_index = index\n",
    "        break\n",
    "    index += 1\n",
    "\n",
    "if found_index != -1:\n",
    "    print(f\"The string '{input_string}' is found at index {found_index}.\")\n",
    "else:\n",
    "    print(f\"The string '{input_string}' is not found in the list.\")\n"
   ]
  },
  {
   "cell_type": "code",
   "execution_count": 30,
   "id": "6c2ed09b",
   "metadata": {},
   "outputs": [
    {
     "name": "stdout",
     "output_type": "stream",
     "text": [
      "2\n"
     ]
    }
   ],
   "source": [
    "my_list = [\"apple\", \"banana\", \"cherry\", \"date\"]\n",
    "search_string = \"cherry\"\n",
    "\n",
    "index = None\n",
    "\n",
    "for i in range(len(my_list)):\n",
    "    if my_list[i] == search_string:\n",
    "        index = i\n",
    "        break\n",
    "\n",
    "print(index)"
   ]
  },
  {
   "cell_type": "markdown",
   "id": "b409de22",
   "metadata": {},
   "source": [
    "## 16.Create a function which returns the length of a string, without using len().\n",
    "\n",
    "### Examples\n",
    "* length(\"Hello World\") ➞ 11\n",
    "\n",
    "* length(\"Edabit\") ➞ 6\n",
    "\n",
    "* length(\"wash your hands!\") ➞ 16"
   ]
  },
  {
   "cell_type": "code",
   "execution_count": 31,
   "id": "6a75f1a4",
   "metadata": {},
   "outputs": [
    {
     "name": "stdout",
     "output_type": "stream",
     "text": [
      "Enter a string: hbfrjahsdbfjk\n",
      "13\n"
     ]
    }
   ],
   "source": [
    "input_string = input(\"Enter a string: \")\n",
    "count = 0\n",
    "index = 0\n",
    "while index < len(input_string):\n",
    "    count += 1\n",
    "    index += 1\n",
    "\n",
    "print(count)"
   ]
  },
  {
   "cell_type": "code",
   "execution_count": 32,
   "id": "385c4b5f",
   "metadata": {},
   "outputs": [
    {
     "name": "stdout",
     "output_type": "stream",
     "text": [
      "Enter a string: fhbersjbfkjuseh\n",
      "15\n"
     ]
    }
   ],
   "source": [
    "my_string =  input(\"Enter a string: \")\n",
    "\n",
    "count = 0\n",
    "\n",
    "for _ in my_string:\n",
    "    count += 1\n",
    "\n",
    "print(count)"
   ]
  },
  {
   "cell_type": "markdown",
   "id": "a819a55f",
   "metadata": {},
   "source": [
    "## 17.Create a function that takes a 2D list lst and returns the sum of the minimum value in each row.\n",
    "\n",
    "### Examples\n",
    "* sum_minimums([\n",
    "  [1, 2, 3, 4, 5],\n",
    "  [5, 6, 7, 8, 9],\n",
    "  [20, 21, 34, 56, 100]\n",
    "]) ➞ 26\n",
    "\n",
    "#minimum value of the first row is 1\n",
    "\n",
    "#minimum value of the second row is 5\n",
    "\n",
    "#minimum value of the third row is 20"
   ]
  },
  {
   "cell_type": "code",
   "execution_count": 33,
   "id": "ffe6c2b9",
   "metadata": {},
   "outputs": [
    {
     "name": "stdout",
     "output_type": "stream",
     "text": [
      "4\n"
     ]
    }
   ],
   "source": [
    "input_list = [[3, 5, 2, 8],[7, 1, 9, 4],[6, 1, 2, 11]]\n",
    "total_sum = 0\n",
    "row_index = 0\n",
    "\n",
    "while row_index < len(input_list):\n",
    "    min_value = input_list[row_index][0]\n",
    "    col_index = 1\n",
    "    while col_index < len(input_list[row_index]):\n",
    "        if input_list[row_index][col_index] < min_value:\n",
    "            min_value = input_list[row_index][col_index]\n",
    "        col_index += 1\n",
    "    total_sum += min_value\n",
    "    row_index += 1\n",
    "\n",
    "print(total_sum)"
   ]
  },
  {
   "cell_type": "code",
   "execution_count": 34,
   "id": "2675177f",
   "metadata": {},
   "outputs": [
    {
     "name": "stdout",
     "output_type": "stream",
     "text": [
      "12\n"
     ]
    }
   ],
   "source": [
    "lst = [[1, 2, 3],[4, 5, 6],[7, 8, 9]]\n",
    "sum_of_min = 0\n",
    "\n",
    "for row in lst:\n",
    "    min_value = min(row)\n",
    "    sum_of_min += min_value\n",
    "\n",
    "print(sum_of_min) "
   ]
  },
  {
   "cell_type": "markdown",
   "id": "e6ed73b1",
   "metadata": {},
   "source": [
    "## 18.Given a letter and a list of words, return whether the letter does not appear in any of the words.\n",
    "\n",
    "### Examples\n",
    "* forbidden_letter(\"r\", [\"rock\", \"paper\", \"scissors\"]) ➞ False\n",
    "* forbidden_letter(\"a\", [\"spoon\", \"fork\", \"knife\"]) ➞ True\n",
    "\n",
    "* forbidden_letter(\"m\", []) ➞ True"
   ]
  },
  {
   "cell_type": "code",
   "execution_count": 35,
   "id": "bf9a3d2b",
   "metadata": {},
   "outputs": [
    {
     "name": "stdout",
     "output_type": "stream",
     "text": [
      "Enter a letter: a\n",
      "The letter 'a' appears in at least one of the words.\n"
     ]
    }
   ],
   "source": [
    "letter = input(\"Enter a letter: \")\n",
    "word_list = [\"apple\", \"banana\", \"cherry\", \"date\"]\n",
    "does_not_appear = True\n",
    "word_index = 0\n",
    "\n",
    "while word_index < len(word_list):\n",
    "    letter_appeared = False\n",
    "    char_index = 0\n",
    "\n",
    "    while char_index < len(word_list[word_index]):\n",
    "        if word_list[word_index][char_index] == letter:\n",
    "            letter_appeared = True\n",
    "            break\n",
    "        char_index += 1\n",
    "\n",
    "    if letter_appeared:\n",
    "        does_not_appear = False\n",
    "        break\n",
    "\n",
    "    word_index += 1\n",
    "\n",
    "if does_not_appear:\n",
    "    print(f\"The letter '{letter}' does not appear in any of the words.\")\n",
    "else:\n",
    "    print(f\"The letter '{letter}' appears in at least one of the words.\")\n"
   ]
  },
  {
   "cell_type": "code",
   "execution_count": 37,
   "id": "863dd5e9",
   "metadata": {},
   "outputs": [
    {
     "name": "stdout",
     "output_type": "stream",
     "text": [
      "Enter a letter: r\n",
      "The letter 'r' appears in at least one of the words.\n"
     ]
    }
   ],
   "source": [
    "letter = input(\"Enter a letter: \")\n",
    "word_list = [\"apple\", \"banana\", \"cherry\", \"date\"]\n",
    "does_not_appear = True\n",
    "\n",
    "for word in word_list:\n",
    "    letter_appeared = False\n",
    "\n",
    "    for char in word:\n",
    "        if char == letter:\n",
    "            letter_appeared = True\n",
    "            break\n",
    "    \n",
    "    if letter_appeared:\n",
    "        does_not_appear = False\n",
    "        break\n",
    "\n",
    "if does_not_appear:\n",
    "    print(f\"The letter '{letter}' does not appear in any of the words.\")\n",
    "else:\n",
    "    print(f\"The letter '{letter}' appears in at least one of the words.\")\n"
   ]
  },
  {
   "cell_type": "markdown",
   "id": "342966d7",
   "metadata": {},
   "source": [
    "## 19.Create a function that finds each factor of a given number n. Your solution should return a list of the number(s) that meet this criteria.\n",
    "\n",
    "### Examples\n",
    "* find_factors(9) ➞ [1, 3, 9]\n",
    "#9 has three factors 1, 3 and 9\n",
    "\n",
    "* find_factors(12) ➞ [1, 2, 3, 4, 6, 12]\n",
    "\n",
    "* find_factors(20) ➞ [1, 2, 4, 5, 10, 20]\n",
    "\n",
    "* find_factors(0) ➞ []\n",
    "#0 has no factors"
   ]
  },
  {
   "cell_type": "code",
   "execution_count": 38,
   "id": "e2e7b041",
   "metadata": {},
   "outputs": [
    {
     "name": "stdout",
     "output_type": "stream",
     "text": [
      "Enter a number: 9\n",
      "[1, 3, 9]\n"
     ]
    }
   ],
   "source": [
    "num = int(input(\"Enter a number: \"))\n",
    "factors = []\n",
    "potential_factor = 1\n",
    "\n",
    "while potential_factor <= num:\n",
    "    if num % potential_factor == 0:\n",
    "        factors.append(potential_factor)\n",
    "    potential_factor += 1\n",
    "\n",
    "print(factors)"
   ]
  },
  {
   "cell_type": "code",
   "execution_count": 39,
   "id": "6562f55b",
   "metadata": {},
   "outputs": [
    {
     "name": "stdout",
     "output_type": "stream",
     "text": [
      "[1, 2, 3, 4, 6, 12]\n"
     ]
    }
   ],
   "source": [
    "n = 12\n",
    "\n",
    "factors = []\n",
    "\n",
    "\n",
    "for i in range(1, n + 1):\n",
    "    if n % i == 0:\n",
    "        factors.append(i)\n",
    "\n",
    "print(factors)"
   ]
  },
  {
   "cell_type": "markdown",
   "id": "e2f88831",
   "metadata": {},
   "source": [
    "## 20.Given a string, create a function to reverse the case. All lower-cased letters should be upper-cased, and vice versa.\n",
    "\n",
    "### Examples\n",
    "* reverse_case(\"Happy Birthday\") ➞ \"hAPPY bIRTHDAY\"\n",
    "\n",
    "* reverse_case(\"MANY THANKS\") ➞ \"many thanks\"\n",
    "\n",
    "* reverse_case(\"sPoNtAnEoUs\") ➞ \"SpOnTaNeOuS\"\n"
   ]
  },
  {
   "cell_type": "code",
   "execution_count": 40,
   "id": "8c7aff75",
   "metadata": {},
   "outputs": [
    {
     "name": "stdout",
     "output_type": "stream",
     "text": [
      "Enter a string: BJgjygGhbgjyJH\n",
      "bjGJYGgHBGJYjh\n"
     ]
    }
   ],
   "source": [
    "input_string = input(\"Enter a string: \")\n",
    "index = 0\n",
    "reversed_string = \"\"\n",
    "\n",
    "while index < len(input_string):\n",
    "    char = input_string[index]\n",
    "    if char.islower():\n",
    "        reversed_string += char.upper()\n",
    "    elif char.isupper():\n",
    "        reversed_string += char.lower()\n",
    "    else:\n",
    "        reversed_string += char\n",
    "    index += 1\n",
    "print(reversed_string)"
   ]
  },
  {
   "cell_type": "code",
   "execution_count": 41,
   "id": "5522e806",
   "metadata": {},
   "outputs": [
    {
     "name": "stdout",
     "output_type": "stream",
     "text": [
      "hELLO, wORLD!\n"
     ]
    }
   ],
   "source": [
    "input_string = \"Hello, World!\"\n",
    "\n",
    "result_string = \"\"\n",
    "\n",
    "for char in input_string:\n",
    "    if char.isupper():\n",
    "        result_string += char.lower()\n",
    "    elif char.islower():\n",
    "        result_string += char.upper()\n",
    "    else:\n",
    "        result_string += char \n",
    "\n",
    "print(result_string)"
   ]
  },
  {
   "cell_type": "markdown",
   "id": "0085c795",
   "metadata": {},
   "source": [
    "## 21.Create a function that returns the number of hashes and pluses in a string.\n",
    "\n",
    "### Examples\n",
    "* hash_plus_count(\"###+\") ➞ [3, 1]\n",
    "\n",
    "* hash_plus_count(\"##+++#\") ➞ [3, 3]\n",
    "\n",
    "* hash_plus_count(\"#+++#+#++#\") ➞ [4, 6]\n",
    "\n",
    "* hash_plus_count(\"\") ➞ [0, 0]"
   ]
  },
  {
   "cell_type": "code",
   "execution_count": 42,
   "id": "2b3d7d03",
   "metadata": {},
   "outputs": [
    {
     "name": "stdout",
     "output_type": "stream",
     "text": [
      "Enter a string: #####++++\n",
      "[5, 4]\n"
     ]
    }
   ],
   "source": [
    "input_string = input(\"Enter a string: \")\n",
    "hash_count = 0\n",
    "plus_count = 0\n",
    "index = 0\n",
    "\n",
    "while index < len(input_string):\n",
    "    if input_string[index] == '#':\n",
    "        hash_count += 1\n",
    "    elif input_string[index] == '+':\n",
    "        plus_count += 1\n",
    "    index += 1\n",
    "\n",
    "counts = [hash_count, plus_count]\n",
    "print(counts)"
   ]
  },
  {
   "cell_type": "code",
   "execution_count": 43,
   "id": "fb06e4a1",
   "metadata": {},
   "outputs": [
    {
     "name": "stdout",
     "output_type": "stream",
     "text": [
      "5 5\n"
     ]
    }
   ],
   "source": [
    "input_string = \"##+++###++\"\n",
    "hash_count = 0\n",
    "plus_count = 0\n",
    "\n",
    "\n",
    "for char in input_string:\n",
    "    if char == '#':\n",
    "        hash_count += 1\n",
    "    elif char == '+':\n",
    "        plus_count += 1\n",
    "\n",
    "print(hash_count,plus_count)\n"
   ]
  },
  {
   "cell_type": "markdown",
   "id": "77740fc3",
   "metadata": {},
   "source": [
    "## 22.Given a one word lowercase string txt, return another string such that even-indexed and odd-indexed characters are grouped and groups are space-separated.\n",
    "\n",
    "### Examples\n",
    "* even_odd_string(\"mubashir\") ➞ \"mbsi uahr\"\n",
    "#Letters at even indexes = \"mbsi\"\n",
    "\n",
    "#Letters at odd indexes = \"uahr\"\n",
    "\n",
    "#Join both strings with a space\n",
    "\n",
    "* even_odd_string(\"edabit\") ➞ \"eai dbt\"\n",
    "\n",
    "* even_odd_string(\"airforce\") ➞ \"aroc ifre\"\n"
   ]
  },
  {
   "cell_type": "code",
   "execution_count": 44,
   "id": "69303baa",
   "metadata": {},
   "outputs": [
    {
     "name": "stdout",
     "output_type": "stream",
     "text": [
      "enter the string: manikanta\n",
      "mnkna aiat\n"
     ]
    }
   ],
   "source": [
    "x=str(input('enter the string: '))\n",
    "x1= x[::2]\n",
    "x2= x[1::2]\n",
    "while x<=x:\n",
    "    print(x1+' '+x2)\n",
    "    break"
   ]
  },
  {
   "cell_type": "code",
   "execution_count": 45,
   "id": "89759813",
   "metadata": {},
   "outputs": [
    {
     "name": "stdout",
     "output_type": "stream",
     "text": [
      "hlo el\n"
     ]
    }
   ],
   "source": [
    "txt = \"hello\" \n",
    "even_chars = \"\"\n",
    "odd_chars = \"\"\n",
    "\n",
    "for i in range(len(txt)):\n",
    "    if i % 2 == 0:\n",
    "        even_chars += txt[i]\n",
    "    else:\n",
    "        odd_chars += txt[i]\n",
    "\n",
    "result = even_chars + \" \" + odd_chars\n",
    "\n",
    "print(result)  "
   ]
  },
  {
   "cell_type": "markdown",
   "id": "8c3441ae",
   "metadata": {},
   "source": [
    "## 23.Create a function which returns the total of all odd numbers up to and including n. n will be given as an odd number.\n",
    "\n",
    "### Examples\n",
    "* add_odd_to_n(5) ➞ 9\n",
    "#1 + 3 + 5 = 9\n",
    "\n",
    "* add_odd_to_n(13) ➞ 49\n",
    "\n",
    "* add_odd_to_n(47) ➞ 576"
   ]
  },
  {
   "cell_type": "code",
   "execution_count": 46,
   "id": "8663518d",
   "metadata": {},
   "outputs": [
    {
     "name": "stdout",
     "output_type": "stream",
     "text": [
      "odd number: 5\n",
      "9\n"
     ]
    }
   ],
   "source": [
    "n = int(input(\"odd number: \"))\n",
    "total = 0\n",
    "current_number = 1\n",
    "\n",
    "while current_number <= n:\n",
    "    total += current_number\n",
    "    current_number += 2\n",
    "\n",
    "print(total)"
   ]
  },
  {
   "cell_type": "code",
   "execution_count": 47,
   "id": "dea5ddf7",
   "metadata": {},
   "outputs": [
    {
     "name": "stdout",
     "output_type": "stream",
     "text": [
      "odd number: 9\n",
      "25\n"
     ]
    }
   ],
   "source": [
    "n = int(input(\"odd number: \"))\n",
    "total = 0\n",
    "for i in range(1, n + 1, 2):\n",
    "    total += i\n",
    "print(total)"
   ]
  },
  {
   "cell_type": "markdown",
   "id": "ef86755a",
   "metadata": {},
   "source": [
    "## 24.Create a function that takes a number n and returns the sum of all square numbers up to and including n.\n",
    "\n",
    "## squares_sum(3) ➞ 14\n",
    "## 1² + 2² + 3² =\n",
    "## 1 + 4 + 9 =\n",
    "## 14\n",
    "### Examples\n",
    "* squares_sum(3) ➞ 14\n",
    "\n",
    "* squares_sum(12) ➞ 650\n",
    "\n",
    "* squares_sum(13) ➞ 819"
   ]
  },
  {
   "cell_type": "code",
   "execution_count": 48,
   "id": "f1863bc9",
   "metadata": {},
   "outputs": [
    {
     "name": "stdout",
     "output_type": "stream",
     "text": [
      "Enter a number: 7\n",
      "140\n"
     ]
    }
   ],
   "source": [
    "n = int(input(\"Enter a number: \"))\n",
    "total_sum = 0\n",
    "current_number = 1\n",
    "\n",
    "while current_number <= n:\n",
    "    total_sum += current_number ** 2\n",
    "    current_number += 1\n",
    "\n",
    "print(total_sum)"
   ]
  },
  {
   "cell_type": "code",
   "execution_count": 49,
   "id": "6ebb72f2",
   "metadata": {},
   "outputs": [
    {
     "name": "stdout",
     "output_type": "stream",
     "text": [
      "Enter a number: 7\n",
      "140\n"
     ]
    }
   ],
   "source": [
    "n = int(input(\"Enter a number: \"))\n",
    "total = 0\n",
    "\n",
    "for current_number in range(1, n + 1):\n",
    "    total += current_number ** 2\n",
    "\n",
    "print(total)"
   ]
  },
  {
   "cell_type": "markdown",
   "id": "29d0abb2",
   "metadata": {},
   "source": [
    "## 25.Given a list of numbers, negate all elements contained within.\n",
    "\n",
    "## Negating a positive value -+n will return -n, because all +'s are removed.\n",
    "## Negating a negative value --n will return n, because the first - turns the second minus into a +.\n",
    "### Examples\n",
    "* negate([1, 2, 3, 4]) ➞ [-1, -2, -3, -4]\n",
    "\n",
    "* negate([-1, 2, -3, 4]) ➞ [1, -2, 3, -4]\n",
    "\n",
    "* negate([]) ➞ []"
   ]
  },
  {
   "cell_type": "code",
   "execution_count": 50,
   "id": "9dd36015",
   "metadata": {},
   "outputs": [
    {
     "name": "stdout",
     "output_type": "stream",
     "text": [
      "[-1, -2, -3, -4]\n"
     ]
    }
   ],
   "source": [
    "numbers = [1, 2, 3, 4]\n",
    "index = 0\n",
    "while index < len(numbers):\n",
    "    numbers[index] = -numbers[index]\n",
    "    index += 1\n",
    "\n",
    "print(numbers)"
   ]
  },
  {
   "cell_type": "code",
   "execution_count": 51,
   "id": "ef0d8ff0",
   "metadata": {},
   "outputs": [
    {
     "name": "stdout",
     "output_type": "stream",
     "text": [
      "[-1, 2, -3, 4, -5]\n"
     ]
    }
   ],
   "source": [
    "numbers = [1, -2, 3, -4, 5]\n",
    "\n",
    "for i in range(len(numbers)):\n",
    "    if numbers[i] > 0:\n",
    "        numbers[i] = -numbers[i]\n",
    "    elif numbers[i] < 0:\n",
    "        numbers[i] = abs(numbers[i])  \n",
    "\n",
    "print(numbers)"
   ]
  },
  {
   "cell_type": "markdown",
   "id": "d385c234",
   "metadata": {},
   "source": [
    "## 26.A number added with its additive inverse equals zero. Create a function that returns a list of additive inverses.\n",
    "\n",
    "### Examples\n",
    "* additive_inverse([5, -7, 8, 3]) ➞ [-5, 7, -8, -3]\n",
    "\n",
    "* additive_inverse([1, 1, 1, 1, 1]) ➞ [-1, -1, -1, -1, -1]\n",
    "\n",
    "* additive_inverse([-5, -25, 35]) ➞ [5, 25, -35]"
   ]
  },
  {
   "cell_type": "code",
   "execution_count": 52,
   "id": "0ddf3929",
   "metadata": {},
   "outputs": [
    {
     "name": "stdout",
     "output_type": "stream",
     "text": [
      "[5, 25, -35]\n"
     ]
    }
   ],
   "source": [
    "numbers = [-5, -25, 35]\n",
    "additive_inverses = []\n",
    "index = 0\n",
    "\n",
    "while index < len(numbers):\n",
    "    additive_inverses.append(-numbers[index])\n",
    "    index += 1\n",
    "\n",
    "print(additive_inverses)"
   ]
  },
  {
   "cell_type": "code",
   "execution_count": 53,
   "id": "8df43ba6",
   "metadata": {},
   "outputs": [
    {
     "name": "stdout",
     "output_type": "stream",
     "text": [
      "[-1, -2, 3, -4, 5]\n"
     ]
    }
   ],
   "source": [
    "numbers = [1, 2, -3, 4, -5]\n",
    "\n",
    "additive_inverses = []\n",
    "\n",
    "for number in numbers:\n",
    "    additive_inverses.append(-number)\n",
    "\n",
    "print(additive_inverses)"
   ]
  },
  {
   "cell_type": "markdown",
   "id": "fb26d849",
   "metadata": {},
   "source": [
    "## 27.Write a function that takes the last number of a consecutive list of numbers and returns the total of all numbers up to and including it.\n",
    "\n",
    "### Examples\n",
    "* add_up_to(3) ➞ 6\n",
    "#1 + 2 + 3 = 6\n",
    "\n",
    "* add_up_to(10) ➞ 55\n",
    "#1 + 2 + 3 + ... + 10 = 55\n",
    "\n",
    "* add_up_to(7) ➞ 28\n",
    "#1 + 2 + 3 + ... + 7 = 28"
   ]
  },
  {
   "cell_type": "code",
   "execution_count": 54,
   "id": "f490ed0a",
   "metadata": {},
   "outputs": [
    {
     "name": "stdout",
     "output_type": "stream",
     "text": [
      "Enter the last number: 10\n",
      "55\n"
     ]
    }
   ],
   "source": [
    "last_number = int(input(\"Enter the last number: \"))\n",
    "total_sum = 0\n",
    "current_number = 1\n",
    "\n",
    "while current_number <= last_number:\n",
    "    total_sum += current_number\n",
    "    current_number += 1\n",
    "\n",
    "print(total_sum)"
   ]
  },
  {
   "cell_type": "code",
   "execution_count": 55,
   "id": "189dd151",
   "metadata": {},
   "outputs": [
    {
     "name": "stdout",
     "output_type": "stream",
     "text": [
      "Enter the last number: 7\n",
      "28\n"
     ]
    }
   ],
   "source": [
    "last_number =  int(input(\"Enter the last number: \"))\n",
    "total = 0\n",
    "for i in range(1, last_number + 1):\n",
    "    total += i\n",
    "print(total)"
   ]
  },
  {
   "cell_type": "markdown",
   "id": "b49a42d4",
   "metadata": {},
   "source": [
    "## 28.Create a function that takes two parameters (start, stop), and returns the sum of all even numbers in the range.\n",
    "\n",
    "###  Examples\n",
    "* sum_even_nums_in_range(10, 20) ➞ 90\n",
    "#10, 12, 14, 16, 18, 20\n",
    "\n",
    "* sum_even_nums_in_range(51, 150) ➞ 5050\n",
    "\n",
    "* sum_even_nums_in_range(63, 97) ➞ 1360"
   ]
  },
  {
   "cell_type": "code",
   "execution_count": 56,
   "id": "ee7b0889",
   "metadata": {},
   "outputs": [
    {
     "name": "stdout",
     "output_type": "stream",
     "text": [
      "Enter the start number: 10\n",
      "Enter the stop number: 20\n",
      "90\n"
     ]
    }
   ],
   "source": [
    "start = int(input(\"Enter the start number: \"))\n",
    "stop = int(input(\"Enter the stop number: \"))\n",
    "total_sum = 0\n",
    "current_number = start\n",
    "\n",
    "while current_number <= stop:\n",
    "    if current_number % 2 == 0:\n",
    "        total_sum += current_number\n",
    "    current_number += 1\n",
    "\n",
    "print(total_sum)"
   ]
  },
  {
   "cell_type": "code",
   "execution_count": 57,
   "id": "f8f4d123",
   "metadata": {},
   "outputs": [
    {
     "name": "stdout",
     "output_type": "stream",
     "text": [
      "Enter the start number: 30\n",
      "Enter the stop number: 50\n",
      "440\n"
     ]
    }
   ],
   "source": [
    "start = int(input(\"Enter the start number: \"))\n",
    "stop = int(input(\"Enter the stop number: \"))\n",
    "\n",
    "total = 0\n",
    "for num in range(start, stop + 1):\n",
    "    if num % 2 == 0:  \n",
    "        total += num\n",
    "print(total)"
   ]
  },
  {
   "cell_type": "markdown",
   "id": "8699b162",
   "metadata": {},
   "source": [
    "## 29.A palindrome is a word that is identical forward and backwards.\n",
    "\n",
    "## mom\n",
    "## racecar\n",
    "## kayak\n",
    "## Given a word, create a function that checks whether it is a palindrome.\n",
    "\n",
    "### Examples\n",
    "* is_palindrome(\"mom\") ➞ True\n",
    "\n",
    "* is_palindrome(\"scary\") ➞ False\n",
    "\n",
    "* is_palindrome(\"reviver\") ➞ True\n",
    "\n",
    "* is_palindrome(\"stressed\") ➞ False"
   ]
  },
  {
   "cell_type": "code",
   "execution_count": 58,
   "id": "03cfa182",
   "metadata": {},
   "outputs": [
    {
     "name": "stdout",
     "output_type": "stream",
     "text": [
      "Enter a word: racecar\n",
      "True\n"
     ]
    }
   ],
   "source": [
    "word = input(\"Enter a word: \")\n",
    "is_palindrome = True\n",
    "start_index = 0\n",
    "end_index = len(word) - 1\n",
    "\n",
    "while start_index < end_index:\n",
    "    if word[start_index] != word[end_index]:\n",
    "        is_palindrome = False\n",
    "        break\n",
    "    start_index += 1\n",
    "    end_index -= 1\n",
    "if is_palindrome:\n",
    "    print(\"True\")\n",
    "else:\n",
    "    print(\"False\")"
   ]
  },
  {
   "cell_type": "code",
   "execution_count": 59,
   "id": "72ee9896",
   "metadata": {},
   "outputs": [
    {
     "name": "stdout",
     "output_type": "stream",
     "text": [
      "Enter a word: racecar\n",
      "True\n"
     ]
    }
   ],
   "source": [
    "word = input(\"Enter a word: \")\n",
    "is_palindrome = True\n",
    "\n",
    "for i in range(len(word)):\n",
    "    if word[i] != word[len(word) - i - 1]:\n",
    "        is_palindrome = False\n",
    "        break\n",
    "if is_palindrome:\n",
    "    print(\"True\")\n",
    "else:\n",
    "    print(\"False\")"
   ]
  },
  {
   "cell_type": "markdown",
   "id": "de915db3",
   "metadata": {},
   "source": [
    "## 30.Implement a function that returns a list containing all the consecutive numbers in ascendant order from the given value low up to the given value high (bounds included).\n",
    "\n",
    "### Examples\n",
    "* get_sequence(1, 5) ➞ [1, 2, 3, 4, 5]\n",
    "\n",
    "* get_sequence(98, 100) ➞ [98, 99, 100]\n",
    "\n",
    "* get_sequence(1000, 1000) ➞ [1000]\n"
   ]
  },
  {
   "cell_type": "code",
   "execution_count": 60,
   "id": "2f1e8ce8",
   "metadata": {},
   "outputs": [
    {
     "name": "stdout",
     "output_type": "stream",
     "text": [
      "Enter the low value: 1\n",
      "Enter the high value: 9\n",
      "[1, 2, 3, 4, 5, 6, 7, 8, 9]\n"
     ]
    }
   ],
   "source": [
    "low = int(input(\"Enter the low value: \"))\n",
    "high = int(input(\"Enter the high value: \"))\n",
    "consecutive_numbers = []\n",
    "current_number = low\n",
    "\n",
    "while current_number <= high:\n",
    "    consecutive_numbers.append(current_number)\n",
    "    current_number += 1\n",
    "\n",
    "print(consecutive_numbers)"
   ]
  },
  {
   "cell_type": "code",
   "execution_count": 61,
   "id": "17639fde",
   "metadata": {},
   "outputs": [
    {
     "name": "stdout",
     "output_type": "stream",
     "text": [
      "Enter the low value: 6\n",
      "Enter the high value: 22\n",
      "[6, 7, 8, 9, 10, 11, 12, 13, 14, 15, 16, 17, 18, 19, 20, 21, 22]\n"
     ]
    }
   ],
   "source": [
    "low = int(input(\"Enter the low value: \"))\n",
    "high = int(input(\"Enter the high value: \"))\n",
    "\n",
    "consecutive_numbers = []\n",
    "\n",
    "for num in range(low, high + 1):\n",
    "    consecutive_numbers.append(num)\n",
    "\n",
    "print(consecutive_numbers)"
   ]
  },
  {
   "cell_type": "markdown",
   "id": "2ed2a1ca",
   "metadata": {},
   "source": [
    "## 31.Create a function that finds the index of a given item.\n",
    "\n",
    "### Examples\n",
    "* search([1, 5, 3], 5) ➞ 1\n",
    "\n",
    "* search([9, 8, 3], 3) ➞ 2\n",
    "\n",
    "* search([1, 2, 3], 4) ➞ -1"
   ]
  },
  {
   "cell_type": "code",
   "execution_count": 62,
   "id": "e74dbc3f",
   "metadata": {},
   "outputs": [
    {
     "name": "stdout",
     "output_type": "stream",
     "text": [
      "Enter the item to search: 3\n",
      "Item found at index: 2\n"
     ]
    }
   ],
   "source": [
    "input_list = [9, 8, 3]\n",
    "search_item = int(input(\"Enter the item to search: \"))\n",
    "\n",
    "index = -1\n",
    "i = 0\n",
    "\n",
    "while i < len(input_list):\n",
    "    if input_list[i] == search_item:\n",
    "        index = i\n",
    "        break\n",
    "    i += 1\n",
    "\n",
    "if index != -1:\n",
    "    print(\"Item found at index:\", index)\n",
    "else:\n",
    "    print(-1)"
   ]
  },
  {
   "cell_type": "code",
   "execution_count": 63,
   "id": "fd9ef7a5",
   "metadata": {},
   "outputs": [
    {
     "name": "stdout",
     "output_type": "stream",
     "text": [
      "Enter the item to search: 7\n",
      "-1\n"
     ]
    }
   ],
   "source": [
    "input_list = [9, 8, 3]\n",
    "search_item = int(input(\"Enter the item to search: \"))\n",
    "\n",
    "index = -1\n",
    "for i in range(len(input_list)):\n",
    "    if input_list[i] == search_item:\n",
    "        index = i\n",
    "        break\n",
    "        \n",
    "if index != -1:\n",
    "    print(\"Item found at index:\", index)\n",
    "else:\n",
    "    print(-1)\n"
   ]
  },
  {
   "cell_type": "markdown",
   "id": "82bb2c21",
   "metadata": {},
   "source": [
    "## 32.Given a string of letters, how many capital letters are there?\n",
    "\n",
    "### Examples\n",
    "* capital_letters(\"fvLzpxmgXSDrobbgMVrc\") ➞ 6\n",
    "\n",
    "* capital_letters(\"JMZWCneOTFLWYwBWxyFw\") ➞ 14\n",
    "\n",
    "* capital_letters(\"mqeytbbjwqemcdrdsyvq\") ➞ 0"
   ]
  },
  {
   "cell_type": "code",
   "execution_count": 64,
   "id": "6fd8f722",
   "metadata": {},
   "outputs": [
    {
     "name": "stdout",
     "output_type": "stream",
     "text": [
      "Enter a string of letters: cjzxckusdhuckhnskxj\n",
      "0\n"
     ]
    }
   ],
   "source": [
    "input_string = input(\"Enter a string of letters: \")\n",
    "capital_count = 0\n",
    "index = 0\n",
    "\n",
    "while index < len(input_string):\n",
    "    if input_string[index].isupper():\n",
    "        capital_count += 1\n",
    "    index += 1\n",
    "print(capital_count)"
   ]
  },
  {
   "cell_type": "code",
   "execution_count": 65,
   "id": "55294526",
   "metadata": {},
   "outputs": [
    {
     "name": "stdout",
     "output_type": "stream",
     "text": [
      "Enter a string: NHKJBYUBjijIJKBKUBNJKUBNInffujskd\n",
      "22\n"
     ]
    }
   ],
   "source": [
    "input_string = input(\"Enter a string: \")\n",
    "\n",
    "capital_count = 0\n",
    "for char in input_string:\n",
    "    if char.isupper():\n",
    "        capital_count += 1\n",
    "\n",
    "print(capital_count)\n"
   ]
  },
  {
   "cell_type": "markdown",
   "id": "5752e3dc",
   "metadata": {},
   "source": [
    "## 33.Create a function that takes a number num and returns the first 10 multiples of num with 1 added to it, separated by commas.\n",
    "\n",
    "### Examples\n",
    "* n_tables_plus_one(7) ➞ \"8,15,22,29,36,43,50,57,64,71\"\n",
    "\n",
    "* n_tables_plus_one(1) ➞ \"2,3,4,5,6,7,8,9,10,11\"\n",
    "\n",
    "* n_tables_plus_one(3) ➞ \"4,7,10,13,16,19,22,25,28,31\""
   ]
  },
  {
   "cell_type": "code",
   "execution_count": 66,
   "id": "b64c1d42",
   "metadata": {},
   "outputs": [
    {
     "name": "stdout",
     "output_type": "stream",
     "text": [
      "Enter a number: 8\n",
      "9, 17, 25, 33, 41, 49, 57, 65, 73, 81\n"
     ]
    }
   ],
   "source": [
    "num = int(input(\"Enter a number: \"))\n",
    "multiples = []\n",
    "current_multiple = 1\n",
    "\n",
    "while len(multiples) < 10:\n",
    "    multiples.append(str(num * current_multiple + 1))\n",
    "    current_multiple += 1\n",
    "result = ', '.join(multiples)\n",
    "\n",
    "print(result)"
   ]
  },
  {
   "cell_type": "code",
   "execution_count": 67,
   "id": "31297f54",
   "metadata": {},
   "outputs": [
    {
     "name": "stdout",
     "output_type": "stream",
     "text": [
      "Enter a number: 5\n",
      "6, 11, 16, 21, 26, 31, 36, 41, 46, 51\n"
     ]
    }
   ],
   "source": [
    "num = int(input(\"Enter a number: \"))\n",
    "\n",
    "multiples = []\n",
    "for i in range(1, 11):\n",
    "    multiples.append(str(num * i + 1))\n",
    "\n",
    "result = \", \".join(multiples)\n",
    "print(result)"
   ]
  },
  {
   "cell_type": "markdown",
   "id": "4839ec44",
   "metadata": {},
   "source": [
    "## 34.This is a reverse coding challenge. Normally you're given explicit directions with how to create a function. Here, you must generate your own function to satisfy the relationship between the inputs and outputs.\n",
    "\n",
    "Your task is to create a function that, when fed the inputs below, produces the sample outputs shown.\n",
    "\n",
    "### Examples\n",
    "* [5, 7, 8, 2, 1], 2 ➞ [1, 1, 0, 0, 1]\n",
    "\n",
    "* [9, 8, 16, 47], 4 ➞ [1, 0, 0, 3]\n",
    "\n",
    "* [17, 11, 99, 55, 23, 1], 5 ➞ [2, 1, 4, 0, 3, 1]\n",
    "\n",
    "* [6, 1], 7 ➞ [6, 1]\n",
    "\n",
    "* [3, 2, 9], 3 ➞ [0, 2, 0]\n",
    "\n",
    "* [48, 22, 0, 19, 33, 100], 10 ➞ [8, 2, 0, 9, 3, 0]"
   ]
  },
  {
   "cell_type": "code",
   "execution_count": 68,
   "id": "519b7bdd",
   "metadata": {},
   "outputs": [
    {
     "name": "stdout",
     "output_type": "stream",
     "text": [
      "Enter the divisor: 7\n",
      "[3, 4, 1, 6, 2, 1]\n"
     ]
    }
   ],
   "source": [
    "input_list = [17, 11, 99, 55, 23, 1]\n",
    "divisor = int(input(\"Enter the divisor: \"))\n",
    "\n",
    "index = 0\n",
    "remainders = []\n",
    "\n",
    "while index < len(input_list):\n",
    "    remainder = input_list[index] % divisor\n",
    "    remainders.append(remainder)\n",
    "    index += 1\n",
    "\n",
    "print(remainders)"
   ]
  },
  {
   "cell_type": "code",
   "execution_count": 69,
   "id": "acfe0c8f",
   "metadata": {},
   "outputs": [
    {
     "name": "stdout",
     "output_type": "stream",
     "text": [
      "Enter the divisor: 5\n",
      "[2, 1, 4, 0, 3, 1]\n"
     ]
    }
   ],
   "source": [
    "input_list = [17, 11, 99, 55, 23, 1]\n",
    "divisor = int(input(\"Enter the divisor: \"))\n",
    "\n",
    "remainders = []\n",
    "for num in input_list:\n",
    "    remainder = num % divisor\n",
    "    remainders.append(remainder)\n",
    "\n",
    "print(remainders)"
   ]
  },
  {
   "cell_type": "markdown",
   "id": "439b8705",
   "metadata": {},
   "source": [
    "## 35.The insurance guy calls again. Apparently, they were informed by your spouse that some items were not stolen at all and you failed to mention this detail to them. This is a fraud attempt! You freeze and mumble something unintelligible. Find out what you said.\n",
    "\n",
    "### Given a dictionary, return a string that concatenates all the values and adds the 2nd key at the end. Make sure you keep an empty space between them but not at the beginning or end of the string. Look at the examples for a clearer picture.\n",
    "\n",
    "#### Examples\n",
    "* { 1: \"Mommy\", 2: \"please\", 3: \"help\" } ➞ \"Mommy please help please\"\n",
    "\n",
    "* { 1: \"Me\", 2: \"innocent\", 3: \"is\" } ➞ \"Me innocent is innocent\"\n",
    "\n",
    "* { 1: \"Must\", 2: \"lawyer\", 3: \"call\" } ➞ \"Must lawyer call lawyer\""
   ]
  },
  {
   "cell_type": "code",
   "execution_count": 70,
   "id": "1b881a12",
   "metadata": {},
   "outputs": [
    {
     "name": "stdout",
     "output_type": "stream",
     "text": [
      "Must lawyer call lawyer\n"
     ]
    }
   ],
   "source": [
    "input_dict = {1: \"Must\", 2: \"lawyer\", 3: \"call\"}\n",
    "result = ''\n",
    "second_key = None\n",
    "keys = list(input_dict.keys())\n",
    "index = 0\n",
    "\n",
    "while index < len(keys):\n",
    "    key = keys[index]\n",
    "    value = input_dict[key]\n",
    "    result += value + ' '\n",
    "    if index == 1:\n",
    "        second_key = key\n",
    "    index += 1\n",
    "\n",
    "if second_key:\n",
    "    result += input_dict[second_key]\n",
    "\n",
    "print(result)\n"
   ]
  },
  {
   "cell_type": "code",
   "execution_count": 71,
   "id": "f718d5d4",
   "metadata": {},
   "outputs": [
    {
     "name": "stdout",
     "output_type": "stream",
     "text": [
      "Mommy pleaseplease help\n"
     ]
    }
   ],
   "source": [
    "input_dict = {\"1\": \"Mommy\", \"2\": \"please\", \"3\": \"help\"} \n",
    "result = \"\"\n",
    "index = 1\n",
    "\n",
    "for key, value in input_dict.items():\n",
    "    result += value\n",
    "    if index == 2:\n",
    "        result += input_dict[\"2\"]\n",
    "    result += \" \"\n",
    "    index += 1\n",
    "\n",
    "print(result.strip())\n"
   ]
  },
  {
   "cell_type": "markdown",
   "id": "1ca842ac",
   "metadata": {},
   "source": [
    "## 36.Create a function that adds a string ending to each member in a list.\n",
    "\n",
    "## Examples\n",
    "* add_ending([\"clever\", \"meek\", \"hurried\", \"nice\"], \"ly\")\n",
    "➞ [\"cleverly\", \"meekly\", \"hurriedly\", \"nicely\"]\n",
    "\n",
    "* add_ending([\"new\", \"pander\", \"scoop\"], \"er\")\n",
    "➞ [\"newer\", \"panderer\", \"scooper\"]\n",
    "\n",
    "* add_ending([\"bend\", \"sharpen\", \"mean\"], \"ing\")\n",
    "➞ [\"bending\", \"sharpening\", \"meaning\"]"
   ]
  },
  {
   "cell_type": "code",
   "execution_count": 72,
   "id": "b3091c17",
   "metadata": {},
   "outputs": [
    {
     "name": "stdout",
     "output_type": "stream",
     "text": [
      "Enter the string ending: li\n",
      "Modified list: ['cleverli', 'meekli', 'hurriedli', 'niceli']\n"
     ]
    }
   ],
   "source": [
    "input_list = [\"clever\", \"meek\", \"hurried\", \"nice\"]\n",
    "ending = input(\"Enter the string ending: \")\n",
    "index = 0\n",
    "while index < len(input_list):\n",
    "    input_list[index] += ending\n",
    "    index += 1\n",
    "print(\"Modified list:\", input_list)"
   ]
  },
  {
   "cell_type": "code",
   "execution_count": 73,
   "id": "b3901fc3",
   "metadata": {},
   "outputs": [
    {
     "name": "stdout",
     "output_type": "stream",
     "text": [
      "Enter the ending to add:  bye\n",
      "['new bye', 'pander bye', 'scoop bye']\n"
     ]
    }
   ],
   "source": [
    "input_list = [\"new\", \"pander\", \"scoop\"]\n",
    "ending = input(\"Enter the ending to add: \")\n",
    "result = []\n",
    "\n",
    "for item in input_list:\n",
    "    result.append(item + ending)\n",
    "\n",
    "print(result)"
   ]
  },
  {
   "cell_type": "markdown",
   "id": "ebf4049d",
   "metadata": {},
   "source": [
    "## 37.Create a function that takes a list of numbers and returns the sum of its cubes.\n",
    "\n",
    "### Examples\n",
    "* sum_of_cubes([1, 5, 9]) ➞ 855\n",
    "\n",
    "#Since 1^3 + 5^3 + 9^3 = 1 + 125 + 729 = 855\n",
    "\n",
    "* sum_of_cubes([3, 4, 5]) ➞ 216\n",
    "\n",
    "* sum_of_cubes([2]) ➞ 8\n",
    "\n",
    "* sum_of_cubes([]) ➞ 0"
   ]
  },
  {
   "cell_type": "code",
   "execution_count": 74,
   "id": "5c1fc473",
   "metadata": {},
   "outputs": [
    {
     "name": "stdout",
     "output_type": "stream",
     "text": [
      "Sum of cubes: 855\n"
     ]
    }
   ],
   "source": [
    "input_list = [1, 5, 9]\n",
    "sum_of_cubes = 0\n",
    "index = 0\n",
    "\n",
    "while index < len(input_list):\n",
    "    sum_of_cubes += input_list[index] ** 3\n",
    "    index += 1\n",
    "print(\"Sum of cubes:\", sum_of_cubes)"
   ]
  },
  {
   "cell_type": "code",
   "execution_count": 75,
   "id": "94973851",
   "metadata": {},
   "outputs": [
    {
     "name": "stdout",
     "output_type": "stream",
     "text": [
      "Sum of cubes: 216\n"
     ]
    }
   ],
   "source": [
    "input_list = [3, 4, 5]\n",
    "\n",
    "sum_of_cubes = 0\n",
    "\n",
    "for num in input_list:\n",
    "    sum_of_cubes += num ** 3\n",
    "\n",
    "print(\"Sum of cubes:\", sum_of_cubes)"
   ]
  },
  {
   "cell_type": "markdown",
   "id": "1950ac0d",
   "metadata": {},
   "source": [
    "## 38.Create a function that returns the minimum number of elements removed to make the sum of all elements in a list even.\n",
    "\n",
    "### Examples\n",
    "* minimum_removals([1, 2, 3, 4, 5]) ➞ 1\n",
    "\n",
    "* minimum_removals([5, 7, 9, 11]) ➞ 0\n",
    "\n",
    "* minimum_removals([5, 7, 9, 12]) ➞ 1"
   ]
  },
  {
   "cell_type": "code",
   "execution_count": 76,
   "id": "f5b5425f",
   "metadata": {},
   "outputs": [
    {
     "name": "stdout",
     "output_type": "stream",
     "text": [
      "1\n"
     ]
    }
   ],
   "source": [
    "input_list = [5, 7, 9, 12]\n",
    "total_sum = 0\n",
    "index = 0\n",
    "\n",
    "while index < len(input_list):\n",
    "    total_sum += input_list[index]\n",
    "    index += 1\n",
    "removed_count = 0\n",
    "if total_sum % 2 != 0:\n",
    "    removed_count = 1\n",
    "print(removed_count)"
   ]
  },
  {
   "cell_type": "code",
   "execution_count": 77,
   "id": "d3ad779a",
   "metadata": {},
   "outputs": [
    {
     "name": "stdout",
     "output_type": "stream",
     "text": [
      "0\n"
     ]
    }
   ],
   "source": [
    "input_list = [5, 7, 9, 11]\n",
    "sum_of_elements = sum(input_list)\n",
    "count_odd = 0\n",
    "count_even = 0\n",
    "\n",
    "for num in input_list:\n",
    "    if num % 2 == 0:\n",
    "        count_even += 1\n",
    "    else:\n",
    "        count_odd += 1\n",
    "\n",
    "min_elements_to_remove = min(count_odd, count_even)\n",
    "\n",
    "print(min_elements_to_remove)"
   ]
  },
  {
   "cell_type": "markdown",
   "id": "f8aaa630",
   "metadata": {},
   "source": [
    "## 39.Create a function that takes a number as an argument and returns a list of numbers counting down from this number to zero.\n",
    "\n",
    "### Examples\n",
    "* countdown(5) ➞ [5, 4, 3, 2, 1, 0]\n",
    "\n",
    "*  countdown(1) ➞ [1, 0]\n",
    "\n",
    "* countdown(0) ➞ [0]"
   ]
  },
  {
   "cell_type": "code",
   "execution_count": 78,
   "id": "a292f27f",
   "metadata": {},
   "outputs": [
    {
     "name": "stdout",
     "output_type": "stream",
     "text": [
      "7\n",
      "6,5,4,3,2,1,0,"
     ]
    }
   ],
   "source": [
    "i=int(input(''))\n",
    "while i>=1:\n",
    "    i-=1\n",
    "    print(i, end=',')"
   ]
  },
  {
   "cell_type": "code",
   "execution_count": 79,
   "id": "8c8bd6c2",
   "metadata": {},
   "outputs": [
    {
     "name": "stdout",
     "output_type": "stream",
     "text": [
      "Enter a number: 8\n",
      "[8, 7, 6, 5, 4, 3, 2, 1, 0]\n"
     ]
    }
   ],
   "source": [
    "num = int(input(\"Enter a number: \"))\n",
    "count_down_list = []\n",
    "\n",
    "for i in range(num, -1, -1):\n",
    "    count_down_list.append(i)\n",
    "\n",
    "print(count_down_list)"
   ]
  },
  {
   "cell_type": "markdown",
   "id": "662f0fd6",
   "metadata": {},
   "source": [
    "## 40.Create a function that takes a string road and returns the car that's in first place. The road will be made of \"=\", and cars will be represented by letters in the alphabet.\n",
    "\n",
    "### Examples\n",
    "* first_place(\"====b===O===e===U=A==\") ➞ \"A\"\n",
    "\n",
    "* first_place(\"e==B=Fe\") ➞ \"e\"\n",
    "\n",
    "* first_place(\"proeNeoOJGnfl\") ➞ \"l\""
   ]
  },
  {
   "cell_type": "code",
   "execution_count": 80,
   "id": "e3edc4f7",
   "metadata": {},
   "outputs": [
    {
     "name": "stdout",
     "output_type": "stream",
     "text": [
      "Enter the road with cars: =======ghtfdfh=====jythdgtdergtdg=d\n",
      "Car in first place : d\n"
     ]
    }
   ],
   "source": [
    "road = input(\"Enter the road with cars: \")\n",
    "index = len(road) - 1\n",
    "first_car = None\n",
    "\n",
    "while index >= 0:\n",
    "    if road[index].isalpha():\n",
    "        first_car = road[index]\n",
    "        break\n",
    "    index -= 1\n",
    "if first_car:\n",
    "    print(\"Car in first place :\", first_car)\n",
    "else:\n",
    "    print(\"No cars on the road.\")"
   ]
  },
  {
   "cell_type": "code",
   "execution_count": 81,
   "id": "7b7ebf54",
   "metadata": {},
   "outputs": [
    {
     "name": "stdout",
     "output_type": "stream",
     "text": [
      "Enter the road string: =dfdfsd=========hkjhjgh======\n",
      "Car in first place: d\n"
     ]
    }
   ],
   "source": [
    "road = input(\"Enter the road string: \")\n",
    "first_car = \"\"\n",
    "\n",
    "for char in road:\n",
    "    if char.isalpha():\n",
    "        first_car = char\n",
    "        break\n",
    "\n",
    "if first_car:\n",
    "    print(\"Car in first place:\", first_car)\n",
    "else:\n",
    "    print(\"No cars on the road.\")\n"
   ]
  },
  {
   "cell_type": "markdown",
   "id": "85bb0653",
   "metadata": {},
   "source": [
    "## 41.When resistors are connected together in series, the same current passes through each resistor in the chain and the total resistance, RT, of the circuit must be equal to the sum of all the individual resistors added together. That is:\n",
    "\n",
    "###  RT = R1 + R2 + R3 ...Create a function that takes an array of values resistance that are connected in series, and calculates the total resistance of the circuit in ohms. The ohm is the standard unit of electrical resistance in the International System of Units ( SI ).\n",
    "\n",
    "### Examples\n",
    "* series_resistance([1, 5, 6, 3]) ➞ \"15 ohms\"\n",
    "\n",
    "* series_resistance([16, 3.5, 6]) ➞ \"25.5 ohms\"\n",
    "\n",
    "* series_resistance([0.5, 0.5]) ➞ \"1.0 ohm\""
   ]
  },
  {
   "cell_type": "code",
   "execution_count": 82,
   "id": "eb3aea48",
   "metadata": {},
   "outputs": [
    {
     "name": "stdout",
     "output_type": "stream",
     "text": [
      "1.0 ohms\n"
     ]
    }
   ],
   "source": [
    "resistances = [0.5, 0.5]\n",
    "total_resistance = 0\n",
    "index = 0\n",
    "\n",
    "while index < len(resistances):\n",
    "    total_resistance += resistances[index]\n",
    "    index += 1\n",
    "\n",
    "print(f\"{total_resistance:.1f} ohms\")"
   ]
  },
  {
   "cell_type": "code",
   "execution_count": 83,
   "id": "c14663c1",
   "metadata": {},
   "outputs": [
    {
     "name": "stdout",
     "output_type": "stream",
     "text": [
      "25.5 ohms\n"
     ]
    }
   ],
   "source": [
    "resistances = [16, 3.5, 6]\n",
    "\n",
    "total_resistance = 0\n",
    "\n",
    "for resistance in resistances:\n",
    "    total_resistance += resistance\n",
    "\n",
    "print(f\"{total_resistance:.1f} ohms\")"
   ]
  },
  {
   "cell_type": "markdown",
   "id": "6e22b294",
   "metadata": {},
   "source": [
    "## 42.Create a function which concatenates the number 7 to the end of every chord in a list. Ignore all chords which already end with 7.\n",
    "\n",
    "### Examples\n",
    "* jazzify([\"G\", \"F\", \"C\"]) ➞ [\"G7\", \"F7\", \"C7\"]\n",
    "\n",
    "* jazzify([\"Dm\", \"G\", \"E\", \"A\"]) ➞ [\"Dm7\", \"G7\", \"E7\", \"A7\"]\n",
    "\n",
    "* jazzify([\"F7\", \"E7\", \"A7\", \"Ab7\", \"Gm7\", \"C7\"]) ➞ [\"F7\", \"E7\", \"A7\", \"Ab7\", \"Gm7\", \"C7\"]\n",
    "\n",
    "* jazzify([]) ➞ []"
   ]
  },
  {
   "cell_type": "code",
   "execution_count": 84,
   "id": "4da0e6f3",
   "metadata": {},
   "outputs": [
    {
     "name": "stdout",
     "output_type": "stream",
     "text": [
      "['Dm7', 'G7', 'E7', 'A7']\n"
     ]
    }
   ],
   "source": [
    "chords =  [\"Dm\", \"G\", \"E\", \"A\"]\n",
    "result_chords = []\n",
    "index = 0\n",
    "\n",
    "while index < len(chords):\n",
    "    chord = chords[index]\n",
    "    if not chord.endswith(\"7\"):\n",
    "        chord += \"7\"\n",
    "    result_chords.append(chord)\n",
    "    index += 1\n",
    "\n",
    "print(result_chords)"
   ]
  },
  {
   "cell_type": "code",
   "execution_count": 85,
   "id": "b1af4813",
   "metadata": {},
   "outputs": [
    {
     "name": "stdout",
     "output_type": "stream",
     "text": [
      "['Dm7', 'G7', 'E7', 'A7']\n"
     ]
    }
   ],
   "source": [
    "chords = [\"Dm\", \"G\", \"E\", \"A\"]\n",
    "result_chords = []\n",
    "\n",
    "for chord in chords:\n",
    "    if not chord.endswith(\"7\"):\n",
    "        chord += \"7\"\n",
    "    result_chords.append(chord)\n",
    "\n",
    "print(result_chords)"
   ]
  },
  {
   "cell_type": "markdown",
   "id": "17d556e2",
   "metadata": {},
   "source": [
    "## 43.Create a function that returns a base-2 (binary) representation of a base-10 (decimal) string number. To convert is simple: ((2) means base-2 and (10) means base-10) 010101001(2) = 1 + 8 + 32 + 128.\n",
    "\n",
    "### Going from right to left, the value of the most right bit is 1, now from that every bit to the left will be x2 the value, value of an 8 bit binary numbers are (256, 128, 64, 32, 16, 8, 4, 2, 1).\n",
    "\n",
    "### Examples\n",
    "* binary(1) ➞ \"1\"\n",
    "#1*1 = 1\n",
    "\n",
    "* binary(5) ➞ \"101\"\n",
    "#1*1 + 1*4 = 5\n",
    "\n",
    "* binary(10) ➞ \"1010\"\n",
    "#1*2 + 1*8 = 10"
   ]
  },
  {
   "cell_type": "code",
   "execution_count": 86,
   "id": "146f860e",
   "metadata": {},
   "outputs": [
    {
     "name": "stdout",
     "output_type": "stream",
     "text": [
      "Enter a base-10 decimal number: 9\n",
      "1001\n"
     ]
    }
   ],
   "source": [
    "decimal_number = int(input(\"Enter a base-10 decimal number: \"))\n",
    "binary_representation = \"\"\n",
    "quotient = decimal_number\n",
    "\n",
    "while quotient > 0:\n",
    "    remainder = quotient % 2\n",
    "    binary_representation = str(remainder) + binary_representation\n",
    "    quotient = quotient // 2\n",
    "\n",
    "print(binary_representation)"
   ]
  },
  {
   "cell_type": "code",
   "execution_count": 87,
   "id": "55c36e57",
   "metadata": {},
   "outputs": [
    {
     "name": "stdout",
     "output_type": "stream",
     "text": [
      "Enter a base-10 decimal number: 8\n",
      "1000\n"
     ]
    }
   ],
   "source": [
    "decimal_number = int(input(\"Enter a base-10 decimal number: \"))\n",
    "binary_representation = \"\"\n",
    "\n",
    "for _ in range(decimal_number.bit_length()):\n",
    "    remainder = decimal_number % 2\n",
    "    binary_representation = str(remainder) + binary_representation\n",
    "    decimal_number = decimal_number // 2\n",
    "\n",
    "print(binary_representation)"
   ]
  },
  {
   "cell_type": "markdown",
   "id": "bb92e62a",
   "metadata": {},
   "source": [
    "## 44.Create a function that takes a string and returns the number (count) of vowels contained within it.\n",
    "\n",
    "### Examples\n",
    "* count_vowels(\"Celebration\") ➞ 5\n",
    "\n",
    "* count_vowels(\"Palm\") ➞ 1\n",
    "\n",
    "* count_vowels(\"Prediction\") ➞ 4"
   ]
  },
  {
   "cell_type": "code",
   "execution_count": 88,
   "id": "d9970b2b",
   "metadata": {},
   "outputs": [
    {
     "name": "stdout",
     "output_type": "stream",
     "text": [
      "Enter a string: palm\n",
      "1\n"
     ]
    }
   ],
   "source": [
    "input_string = input(\"Enter a string: \")\n",
    "vowel_count = 0\n",
    "index = 0\n",
    "\n",
    "while index < len(input_string):\n",
    "    char = input_string[index]\n",
    "    if char.lower() in \"aeiou\":\n",
    "        vowel_count += 1\n",
    "    index += 1\n",
    "\n",
    "print(vowel_count)"
   ]
  },
  {
   "cell_type": "code",
   "execution_count": 89,
   "id": "f6a854ae",
   "metadata": {},
   "outputs": [
    {
     "name": "stdout",
     "output_type": "stream",
     "text": [
      "Enter a string: function\n",
      "3\n"
     ]
    }
   ],
   "source": [
    "input_string = input(\"Enter a string: \")\n",
    "vowel_count = 0\n",
    "\n",
    "for char in input_string:\n",
    "    if char.lower() in \"aeiou\":\n",
    "        vowel_count += 1\n",
    "\n",
    "print(vowel_count)"
   ]
  },
  {
   "cell_type": "markdown",
   "id": "0947e537",
   "metadata": {},
   "source": [
    "## 45.Create a function that takes a list and finds the integer which appears an odd number of times.\n",
    "\n",
    "### Examples\n",
    "* find_odd([1, 1, 2, -2, 5, 2, 4, 4, -1, -2, 5]) ➞ -1\n",
    "\n",
    "* find_odd([20, 1, 1, 2, 2, 3, 3, 5, 5, 4, 20, 4, 5]) ➞ 5\n",
    "\n",
    "* find_odd([10]) ➞ 10\n"
   ]
  },
  {
   "cell_type": "code",
   "execution_count": 90,
   "id": "c32103d5",
   "metadata": {},
   "outputs": [
    {
     "name": "stdout",
     "output_type": "stream",
     "text": [
      "5\n"
     ]
    }
   ],
   "source": [
    "num_list = [20, 1, 1, 2, 2, 3, 3, 5, 5, 4, 20, 4, 5]\n",
    "odd_appearing_integer = None\n",
    "index = 0\n",
    "\n",
    "while index < len(num_list):\n",
    "    num = num_list[index]\n",
    "    if num_list.count(num) % 2 == 1:\n",
    "        odd_appearing_integer = num\n",
    "        break\n",
    "    index += 1\n",
    "\n",
    "print(odd_appearing_integer)"
   ]
  },
  {
   "cell_type": "code",
   "execution_count": 91,
   "id": "e6da62a6",
   "metadata": {},
   "outputs": [
    {
     "name": "stdout",
     "output_type": "stream",
     "text": [
      "-1\n"
     ]
    }
   ],
   "source": [
    "num_list = [1, 1, 2, -2, 5, 2, 4, 4, -1, -2, 5]\n",
    "odd_appearing_integer = None\n",
    "\n",
    "for num in num_list:\n",
    "    if num_list.count(num) % 2 == 1:\n",
    "        odd_appearing_integer = num\n",
    "        break\n",
    "\n",
    "print(odd_appearing_integer)"
   ]
  },
  {
   "cell_type": "markdown",
   "id": "4c682bbe",
   "metadata": {},
   "source": [
    "## 46.Hamming distance is the number of characters that differ between two strings.\n",
    "\n",
    "### To illustrate:     String1: \"abcbba\"    ,String2: \"abcbda\"\n",
    "### Hamming Distance: 1 - \"b\" vs. \"d\" is the only difference.Create a function that computes the hamming distance between two strings.\n",
    "\n",
    "### Examples\n",
    "* hamming_distance(\"abcde\", \"bcdef\") ➞ 5\n",
    "\n",
    "* hamming_distance(\"abcde\", \"abcde\") ➞ 0\n",
    "\n",
    "* hamming_distance(\"strong\", \"strung\") ➞ 1"
   ]
  },
  {
   "cell_type": "code",
   "execution_count": 92,
   "id": "6c40e35e",
   "metadata": {},
   "outputs": [
    {
     "name": "stdout",
     "output_type": "stream",
     "text": [
      "Enter the first string: abcd\n",
      "Enter the second string: cdefg\n",
      "4\n"
     ]
    }
   ],
   "source": [
    "string1 = input(\"Enter the first string: \")\n",
    "string2 = input(\"Enter the second string: \")\n",
    "hamming_distance = 0\n",
    "index = 0\n",
    "\n",
    "while index < len(string1):\n",
    "    if string1[index] != string2[index]:\n",
    "        hamming_distance += 1\n",
    "    index += 1\n",
    "\n",
    "print(hamming_distance)"
   ]
  },
  {
   "cell_type": "code",
   "execution_count": 93,
   "id": "98f04571",
   "metadata": {},
   "outputs": [
    {
     "name": "stdout",
     "output_type": "stream",
     "text": [
      "Enter the first string: abcd\n",
      "Enter the second string: cdefg\n",
      "4\n"
     ]
    }
   ],
   "source": [
    "string1 = input(\"Enter the first string: \")\n",
    "string2 = input(\"Enter the second string: \")\n",
    "hamming_distance = 0\n",
    "\n",
    "for i in range(len(string1)):\n",
    "    if string1[i] != string2[i]:\n",
    "        hamming_distance += 1\n",
    "\n",
    "print(hamming_distance)"
   ]
  },
  {
   "cell_type": "markdown",
   "id": "f63d9192",
   "metadata": {},
   "source": [
    "## 47.Create a function that takes a list of non-negative integers and strings and return a new list without the strings.\n",
    "\n",
    "### Examples\n",
    "* filter_list([1, 2, \"a\", \"b\"]) ➞ [1, 2]\n",
    "\n",
    "* filter_list([1, \"a\", \"b\", 0, 15]) ➞ [1, 0, 15]\n",
    "\n",
    "* filter_list([1, 2, \"aasf\", \"1\", \"123\", 123]) ➞ [1, 2, 123]"
   ]
  },
  {
   "cell_type": "code",
   "execution_count": 94,
   "id": "9ecc6754",
   "metadata": {},
   "outputs": [
    {
     "name": "stdout",
     "output_type": "stream",
     "text": [
      "[1, 0, 15]\n"
     ]
    }
   ],
   "source": [
    "input_list = [1, \"a\", \"b\", 0, 15]\n",
    "filtered_list = []\n",
    "index = 0\n",
    "\n",
    "while index < len(input_list):\n",
    "    item = input_list[index]\n",
    "    if isinstance(item, int) and item >= 0:\n",
    "        filtered_list.append(item)\n",
    "    index += 1\n",
    "\n",
    "print(filtered_list)"
   ]
  },
  {
   "cell_type": "code",
   "execution_count": 95,
   "id": "1c761654",
   "metadata": {},
   "outputs": [
    {
     "name": "stdout",
     "output_type": "stream",
     "text": [
      "[1, 2, 123]\n"
     ]
    }
   ],
   "source": [
    "input_list =[1, 2, \"aasf\", \"1\", \"123\", 123]\n",
    "filtered_list = []\n",
    "\n",
    "for item in input_list:\n",
    "    if isinstance(item, int) and item >= 0:\n",
    "        filtered_list.append(item)\n",
    "\n",
    "print(filtered_list)"
   ]
  },
  {
   "cell_type": "markdown",
   "id": "4b32c9b5",
   "metadata": {},
   "source": [
    "## 48.Create a function that takes a list of strings and integers, and filters out the list so that it returns a list of integers only.\n",
    "\n",
    "### Examples\n",
    "* filter_list([1, 2, 3, \"a\", \"b\", 4]) ➞ [1, 2, 3, 4]\n",
    "\n",
    "* filter_list([\"A\", 0, \"Edabit\", 1729, \"Python\", \"1729\"]) ➞ [0, 1729]\n",
    "\n",
    "* filter_list([\"Nothing\", \"here\"]) ➞ []\n"
   ]
  },
  {
   "cell_type": "code",
   "execution_count": 96,
   "id": "d9343591",
   "metadata": {},
   "outputs": [
    {
     "name": "stdout",
     "output_type": "stream",
     "text": [
      "[7, 9]\n"
     ]
    }
   ],
   "source": [
    "input_str = [\"Nothing\", \"here\",7,9]\n",
    "input_list = input_str\n",
    "filtered_list = []\n",
    "index = 0\n",
    "\n",
    "while index < len(input_list):\n",
    "    item = input_list[index]\n",
    "    if isinstance(item, int):\n",
    "        filtered_list.append(item)\n",
    "    index += 1\n",
    "\n",
    "print(filtered_list)\n"
   ]
  },
  {
   "cell_type": "code",
   "execution_count": 97,
   "id": "b939cbaa",
   "metadata": {},
   "outputs": [
    {
     "name": "stdout",
     "output_type": "stream",
     "text": [
      "[0, 1729]\n"
     ]
    }
   ],
   "source": [
    "input_list = [\"A\", 0, \"Edabit\", 1729, \"Python\", \"1729\"]\n",
    "filtered_list = []\n",
    "\n",
    "for item in input_list:\n",
    "    if isinstance(item, int):\n",
    "        filtered_list.append(item)\n",
    "\n",
    "print(filtered_list)\n"
   ]
  },
  {
   "cell_type": "markdown",
   "id": "cd1a95db",
   "metadata": {},
   "source": [
    "## 49.Given a list of numbers, create a function which returns the list but with each element's index in the list added to itself. This means you add 0 to the number at index 0, add 1 to the number at index 1, etc...\n",
    "\n",
    "### Examples\n",
    "add_indexes([0, 0, 0, 0, 0]) ➞ [0, 1, 2, 3, 4]\n",
    "\n",
    "add_indexes([1, 2, 3, 4, 5]) ➞ [1, 3, 5, 7, 9]\n",
    "\n",
    "add_indexes([5, 4, 3, 2, 1]) ➞ [5, 5, 5, 5, 5]"
   ]
  },
  {
   "cell_type": "code",
   "execution_count": 98,
   "id": "6c4c5287",
   "metadata": {},
   "outputs": [
    {
     "name": "stdout",
     "output_type": "stream",
     "text": [
      "Enter a list of numbers: 0,0,0,0,0,0,0,0\n",
      "[0, 1, 2, 3, 4, 5, 6, 7]\n"
     ]
    }
   ],
   "source": [
    "input_str = input(\"Enter a list of numbers: \")\n",
    "input_list = eval(input_str)\n",
    "result_list = []\n",
    "index = 0\n",
    "\n",
    "while index < len(input_list):\n",
    "    result_list.append(input_list[index] + index)\n",
    "    index += 1\n",
    "\n",
    "print( result_list)\n"
   ]
  },
  {
   "cell_type": "code",
   "execution_count": 99,
   "id": "74b12c1f",
   "metadata": {},
   "outputs": [
    {
     "name": "stdout",
     "output_type": "stream",
     "text": [
      "Enter a list of numbers: 1,2,3,4,4,5,6,7,8\n",
      "[1, 3, 5, 7, 8, 10, 12, 14, 16]\n"
     ]
    }
   ],
   "source": [
    "input_list = eval(input(\"Enter a list of numbers: \"))\n",
    "result_list = []\n",
    "\n",
    "for index, value in enumerate(input_list):\n",
    "    result_list.append(value + index)\n",
    "\n",
    "print(result_list)"
   ]
  },
  {
   "cell_type": "markdown",
   "id": "43aadcf8",
   "metadata": {},
   "source": [
    "## 50.This Triangular Number Sequence is generated from a pattern of dots that form a triangle. The first 5 numbers of the sequence, or dots, are:1, 3, 6, 10, 15      This means that the first triangle has just one dot, the second one has three dots, the third one has 6 dots and so on.          Write a function that returns the number of dots when given its corresponding triangle number of the sequence.\n",
    "\n",
    "### Examples\n",
    "* triangle(1) ➞ 1\n",
    "\n",
    "* triangle(6) ➞ 21\n",
    "\n",
    "* triangle(215) ➞ 23220\n"
   ]
  },
  {
   "cell_type": "code",
   "execution_count": 100,
   "id": "cbfe999e",
   "metadata": {},
   "outputs": [
    {
     "name": "stdout",
     "output_type": "stream",
     "text": [
      "Enter the triangle number: 6\n",
      "Number of dots: 21\n"
     ]
    }
   ],
   "source": [
    "n = int(input(\"Enter the triangle number: \"))\n",
    "num_dots = 0\n",
    "i = 1\n",
    "\n",
    "while i <= n:\n",
    "    num_dots += i\n",
    "    i += 1\n",
    "\n",
    "print(\"Number of dots:\", num_dots)"
   ]
  },
  {
   "cell_type": "code",
   "execution_count": 101,
   "id": "f6cbf171",
   "metadata": {},
   "outputs": [
    {
     "name": "stdout",
     "output_type": "stream",
     "text": [
      "Enter the triangle number: 215\n",
      "Number of dots: 23220\n"
     ]
    }
   ],
   "source": [
    "n = int(input(\"Enter the triangle number: \"))\n",
    "num_dots = 0\n",
    "\n",
    "for i in range(1, n + 1):\n",
    "    num_dots += i\n",
    "\n",
    "print(\"Number of dots:\", num_dots)"
   ]
  },
  {
   "cell_type": "code",
   "execution_count": null,
   "id": "e5da640d",
   "metadata": {},
   "outputs": [],
   "source": []
  }
 ],
 "metadata": {
  "kernelspec": {
   "display_name": "Python 3 (ipykernel)",
   "language": "python",
   "name": "python3"
  },
  "language_info": {
   "codemirror_mode": {
    "name": "ipython",
    "version": 3
   },
   "file_extension": ".py",
   "mimetype": "text/x-python",
   "name": "python",
   "nbconvert_exporter": "python",
   "pygments_lexer": "ipython3",
   "version": "3.11.3"
  }
 },
 "nbformat": 4,
 "nbformat_minor": 5
}
